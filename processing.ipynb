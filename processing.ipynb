{
 "cells": [
  {
   "cell_type": "code",
   "execution_count": 1,
   "id": "2b865ba5",
   "metadata": {},
   "outputs": [],
   "source": [
    "# HPC deployment\n",
    "SPARK_MASTER = 'spark://cm020:33010'\n",
    "FILE_DIR = '/scratch/si2073/output'\n",
    "FILENAME = FILE_DIR + '/enwiki-20230401-pages-meta-history10.xml-p4045403p4096288.csv'\n",
    "TARGET_PATH = '/scratch/tmv7269/datasets'"
   ]
  },
  {
   "cell_type": "code",
   "execution_count": 2,
   "id": "84dd3471",
   "metadata": {},
   "outputs": [],
   "source": [
    "import pandas as pd\n",
    "import numpy as np\n",
    "import re\n",
    "import datasets\n",
    "from datasets import load_dataset\n",
    "from pathlib import Path\n",
    "\n",
    "datasets.config.HF_DATASETS_CACHE = Path(TARGET_PATH)"
   ]
  },
  {
   "cell_type": "code",
   "execution_count": null,
   "id": "3df0cdcb",
   "metadata": {},
   "outputs": [
    {
     "name": "stdout",
     "output_type": "stream",
     "text": [
      "Downloading and preparing dataset wikipedia-22-12-embeddings/en (download: 28.06 GiB, generated: 117.48 GiB, post-processed: Unknown size, total: 145.54 GiB) to /scratch/tmv7269/datasets/Cohere___parquet/Cohere--wikipedia-22-12-en-embeddings-735980cfcb568494/0.0.0/2a3b91fbd88a2c90d1dbbb32b460cf621d31bd5b05b934492fdef7d8d6f236ec...\n"
     ]
    },
    {
     "data": {
      "application/vnd.jupyter.widget-view+json": {
       "model_id": "f32bb47c14664d229ba82041a69431e9",
       "version_major": 2,
       "version_minor": 0
      },
      "text/plain": [
       "Downloading data files:   0%|          | 0/1 [00:00<?, ?it/s]"
      ]
     },
     "metadata": {},
     "output_type": "display_data"
    },
    {
     "data": {
      "application/vnd.jupyter.widget-view+json": {
       "model_id": "7ee056d5c3a04d2898322b70adf1924f",
       "version_major": 2,
       "version_minor": 0
      },
      "text/plain": [
       "Downloading data:   0%|          | 0.00/475M [00:00<?, ?B/s]"
      ]
     },
     "metadata": {},
     "output_type": "display_data"
    },
    {
     "data": {
      "application/vnd.jupyter.widget-view+json": {
       "model_id": "dd404ee2d79d4676b789469f49e47770",
       "version_major": 2,
       "version_minor": 0
      },
      "text/plain": [
       "Downloading data:   0%|          | 0.00/475M [00:00<?, ?B/s]"
      ]
     },
     "metadata": {},
     "output_type": "display_data"
    },
    {
     "data": {
      "application/vnd.jupyter.widget-view+json": {
       "model_id": "c9ac04ee34ca41aeb41d9893448b3efc",
       "version_major": 2,
       "version_minor": 0
      },
      "text/plain": [
       "Downloading data:   0%|          | 0.00/475M [00:00<?, ?B/s]"
      ]
     },
     "metadata": {},
     "output_type": "display_data"
    },
    {
     "data": {
      "application/vnd.jupyter.widget-view+json": {
       "model_id": "1dc9f71fdef940a5974051263d35c19a",
       "version_major": 2,
       "version_minor": 0
      },
      "text/plain": [
       "Downloading data:   0%|          | 0.00/475M [00:00<?, ?B/s]"
      ]
     },
     "metadata": {},
     "output_type": "display_data"
    },
    {
     "data": {
      "application/vnd.jupyter.widget-view+json": {
       "model_id": "10fb086982744b14bbee687fa5efd4ce",
       "version_major": 2,
       "version_minor": 0
      },
      "text/plain": [
       "Downloading data:   0%|          | 0.00/475M [00:00<?, ?B/s]"
      ]
     },
     "metadata": {},
     "output_type": "display_data"
    },
    {
     "data": {
      "application/vnd.jupyter.widget-view+json": {
       "model_id": "5eb828021e22465faf71525e941122d0",
       "version_major": 2,
       "version_minor": 0
      },
      "text/plain": [
       "Downloading data:   0%|          | 0.00/475M [00:00<?, ?B/s]"
      ]
     },
     "metadata": {},
     "output_type": "display_data"
    },
    {
     "data": {
      "application/vnd.jupyter.widget-view+json": {
       "model_id": "86d8302158904b5aa0556eaa64d2fe13",
       "version_major": 2,
       "version_minor": 0
      },
      "text/plain": [
       "Downloading data:   0%|          | 0.00/475M [00:00<?, ?B/s]"
      ]
     },
     "metadata": {},
     "output_type": "display_data"
    },
    {
     "data": {
      "application/vnd.jupyter.widget-view+json": {
       "model_id": "ec5692d5e17841898043e8f7fbf68155",
       "version_major": 2,
       "version_minor": 0
      },
      "text/plain": [
       "Downloading data:   0%|          | 0.00/475M [00:00<?, ?B/s]"
      ]
     },
     "metadata": {},
     "output_type": "display_data"
    },
    {
     "data": {
      "application/vnd.jupyter.widget-view+json": {
       "model_id": "6beed2723dc74c1ca910c77bedd61bb0",
       "version_major": 2,
       "version_minor": 0
      },
      "text/plain": [
       "Downloading data:   0%|          | 0.00/475M [00:00<?, ?B/s]"
      ]
     },
     "metadata": {},
     "output_type": "display_data"
    },
    {
     "data": {
      "application/vnd.jupyter.widget-view+json": {
       "model_id": "0ae98be7ef0c4736a99bfb16a4dd1358",
       "version_major": 2,
       "version_minor": 0
      },
      "text/plain": [
       "Downloading data:   0%|          | 0.00/475M [00:00<?, ?B/s]"
      ]
     },
     "metadata": {},
     "output_type": "display_data"
    },
    {
     "data": {
      "application/vnd.jupyter.widget-view+json": {
       "model_id": "afa99988689f496597f4ce7cd00941e0",
       "version_major": 2,
       "version_minor": 0
      },
      "text/plain": [
       "Downloading data:   0%|          | 0.00/475M [00:00<?, ?B/s]"
      ]
     },
     "metadata": {},
     "output_type": "display_data"
    },
    {
     "data": {
      "application/vnd.jupyter.widget-view+json": {
       "model_id": "c32d173575384fd983c9d63e079a5dc2",
       "version_major": 2,
       "version_minor": 0
      },
      "text/plain": [
       "Downloading data:   0%|          | 0.00/475M [00:00<?, ?B/s]"
      ]
     },
     "metadata": {},
     "output_type": "display_data"
    },
    {
     "data": {
      "application/vnd.jupyter.widget-view+json": {
       "model_id": "7cdd6b04ce5548fb93448d07c5cc3a58",
       "version_major": 2,
       "version_minor": 0
      },
      "text/plain": [
       "Downloading data:   0%|          | 0.00/475M [00:00<?, ?B/s]"
      ]
     },
     "metadata": {},
     "output_type": "display_data"
    },
    {
     "data": {
      "application/vnd.jupyter.widget-view+json": {
       "model_id": "1393f6d4aa8044fc85ce2378d7516891",
       "version_major": 2,
       "version_minor": 0
      },
      "text/plain": [
       "Downloading data:   0%|          | 0.00/475M [00:00<?, ?B/s]"
      ]
     },
     "metadata": {},
     "output_type": "display_data"
    },
    {
     "data": {
      "application/vnd.jupyter.widget-view+json": {
       "model_id": "c3be3282caa34f6ea29fa427dce49b65",
       "version_major": 2,
       "version_minor": 0
      },
      "text/plain": [
       "Downloading data:   0%|          | 0.00/475M [00:00<?, ?B/s]"
      ]
     },
     "metadata": {},
     "output_type": "display_data"
    },
    {
     "data": {
      "application/vnd.jupyter.widget-view+json": {
       "model_id": "eca0f20fbff14268956dc3606992af3f",
       "version_major": 2,
       "version_minor": 0
      },
      "text/plain": [
       "Downloading data:   0%|          | 0.00/475M [00:00<?, ?B/s]"
      ]
     },
     "metadata": {},
     "output_type": "display_data"
    },
    {
     "data": {
      "application/vnd.jupyter.widget-view+json": {
       "model_id": "4a8fb870965542ddb5916f7152cb7b80",
       "version_major": 2,
       "version_minor": 0
      },
      "text/plain": [
       "Downloading data:   0%|          | 0.00/475M [00:00<?, ?B/s]"
      ]
     },
     "metadata": {},
     "output_type": "display_data"
    },
    {
     "data": {
      "application/vnd.jupyter.widget-view+json": {
       "model_id": "6356de0364184bd48477eb2e4e1e678c",
       "version_major": 2,
       "version_minor": 0
      },
      "text/plain": [
       "Downloading data:   0%|          | 0.00/475M [00:00<?, ?B/s]"
      ]
     },
     "metadata": {},
     "output_type": "display_data"
    },
    {
     "data": {
      "application/vnd.jupyter.widget-view+json": {
       "model_id": "24bc27552ef54b27b9aa42f853e35d1c",
       "version_major": 2,
       "version_minor": 0
      },
      "text/plain": [
       "Downloading data:   0%|          | 0.00/475M [00:00<?, ?B/s]"
      ]
     },
     "metadata": {},
     "output_type": "display_data"
    },
    {
     "data": {
      "application/vnd.jupyter.widget-view+json": {
       "model_id": "e4c8e71635ef4b6eba4e39a36c286309",
       "version_major": 2,
       "version_minor": 0
      },
      "text/plain": [
       "Downloading data:   0%|          | 0.00/475M [00:00<?, ?B/s]"
      ]
     },
     "metadata": {},
     "output_type": "display_data"
    },
    {
     "data": {
      "application/vnd.jupyter.widget-view+json": {
       "model_id": "06a64b3c429d4fe1b40c57030806f07e",
       "version_major": 2,
       "version_minor": 0
      },
      "text/plain": [
       "Downloading data:   0%|          | 0.00/475M [00:00<?, ?B/s]"
      ]
     },
     "metadata": {},
     "output_type": "display_data"
    },
    {
     "data": {
      "application/vnd.jupyter.widget-view+json": {
       "model_id": "8fb0200118f8413e8e185c4d334fb2f1",
       "version_major": 2,
       "version_minor": 0
      },
      "text/plain": [
       "Downloading data:   0%|          | 0.00/474M [00:00<?, ?B/s]"
      ]
     },
     "metadata": {},
     "output_type": "display_data"
    },
    {
     "data": {
      "application/vnd.jupyter.widget-view+json": {
       "model_id": "1d2d6430ba2c45a58cda06683c2832e9",
       "version_major": 2,
       "version_minor": 0
      },
      "text/plain": [
       "Downloading data:   0%|          | 0.00/475M [00:00<?, ?B/s]"
      ]
     },
     "metadata": {},
     "output_type": "display_data"
    },
    {
     "data": {
      "application/vnd.jupyter.widget-view+json": {
       "model_id": "a4f45d28e68d405f9454f2ff5a277d25",
       "version_major": 2,
       "version_minor": 0
      },
      "text/plain": [
       "Downloading data:   0%|          | 0.00/474M [00:00<?, ?B/s]"
      ]
     },
     "metadata": {},
     "output_type": "display_data"
    },
    {
     "data": {
      "application/vnd.jupyter.widget-view+json": {
       "model_id": "a0c6020cb61d4520b8ea68f79dae90a4",
       "version_major": 2,
       "version_minor": 0
      },
      "text/plain": [
       "Downloading data:   0%|          | 0.00/474M [00:00<?, ?B/s]"
      ]
     },
     "metadata": {},
     "output_type": "display_data"
    },
    {
     "data": {
      "application/vnd.jupyter.widget-view+json": {
       "model_id": "87f0e93b11e147c38bdf2448a4bb9867",
       "version_major": 2,
       "version_minor": 0
      },
      "text/plain": [
       "Downloading data:   0%|          | 0.00/474M [00:00<?, ?B/s]"
      ]
     },
     "metadata": {},
     "output_type": "display_data"
    },
    {
     "data": {
      "application/vnd.jupyter.widget-view+json": {
       "model_id": "4629b4c29806422ea3f744461e18429e",
       "version_major": 2,
       "version_minor": 0
      },
      "text/plain": [
       "Downloading data:   0%|          | 0.00/474M [00:00<?, ?B/s]"
      ]
     },
     "metadata": {},
     "output_type": "display_data"
    },
    {
     "data": {
      "application/vnd.jupyter.widget-view+json": {
       "model_id": "5c238fc459d64fefb79ef423a72f2748",
       "version_major": 2,
       "version_minor": 0
      },
      "text/plain": [
       "Downloading data:   0%|          | 0.00/474M [00:00<?, ?B/s]"
      ]
     },
     "metadata": {},
     "output_type": "display_data"
    },
    {
     "data": {
      "application/vnd.jupyter.widget-view+json": {
       "model_id": "e6304a004086433bb1fb57e15ecb9c96",
       "version_major": 2,
       "version_minor": 0
      },
      "text/plain": [
       "Downloading data:   0%|          | 0.00/474M [00:00<?, ?B/s]"
      ]
     },
     "metadata": {},
     "output_type": "display_data"
    },
    {
     "data": {
      "application/vnd.jupyter.widget-view+json": {
       "model_id": "1133c7c5272040ae85613aa36a35b9bb",
       "version_major": 2,
       "version_minor": 0
      },
      "text/plain": [
       "Downloading data:   0%|          | 0.00/474M [00:00<?, ?B/s]"
      ]
     },
     "metadata": {},
     "output_type": "display_data"
    },
    {
     "data": {
      "application/vnd.jupyter.widget-view+json": {
       "model_id": "0faf3b25b2c545928553968aeccfc626",
       "version_major": 2,
       "version_minor": 0
      },
      "text/plain": [
       "Downloading data:   0%|          | 0.00/474M [00:00<?, ?B/s]"
      ]
     },
     "metadata": {},
     "output_type": "display_data"
    },
    {
     "data": {
      "application/vnd.jupyter.widget-view+json": {
       "model_id": "24f89e03d58640518aa96eb4647aa977",
       "version_major": 2,
       "version_minor": 0
      },
      "text/plain": [
       "Downloading data:   0%|          | 0.00/474M [00:00<?, ?B/s]"
      ]
     },
     "metadata": {},
     "output_type": "display_data"
    },
    {
     "data": {
      "application/vnd.jupyter.widget-view+json": {
       "model_id": "7b4f6ae473ec4a3a896076fb5116f88c",
       "version_major": 2,
       "version_minor": 0
      },
      "text/plain": [
       "Downloading data:   0%|          | 0.00/474M [00:00<?, ?B/s]"
      ]
     },
     "metadata": {},
     "output_type": "display_data"
    },
    {
     "data": {
      "application/vnd.jupyter.widget-view+json": {
       "model_id": "77e568170fff49279ad6348d8010c6ed",
       "version_major": 2,
       "version_minor": 0
      },
      "text/plain": [
       "Downloading data:   0%|          | 0.00/474M [00:00<?, ?B/s]"
      ]
     },
     "metadata": {},
     "output_type": "display_data"
    },
    {
     "data": {
      "application/vnd.jupyter.widget-view+json": {
       "model_id": "5f353e13f1b245cc86871e0aa35cf479",
       "version_major": 2,
       "version_minor": 0
      },
      "text/plain": [
       "Downloading data:   0%|          | 0.00/474M [00:00<?, ?B/s]"
      ]
     },
     "metadata": {},
     "output_type": "display_data"
    },
    {
     "data": {
      "application/vnd.jupyter.widget-view+json": {
       "model_id": "c0ae46288cc94c29b4baf22639fa16e5",
       "version_major": 2,
       "version_minor": 0
      },
      "text/plain": [
       "Downloading data:   0%|          | 0.00/474M [00:00<?, ?B/s]"
      ]
     },
     "metadata": {},
     "output_type": "display_data"
    }
   ],
   "source": [
    "# Load Cohere's full dataset\n",
    "drop_columns = ['text', 'id', 'title', 'url', 'langs', 'paragraph_id']\n",
    "docs = load_dataset(f\"Cohere/wikipedia-22-12-en-embeddings\", split=\"train\").remove_columns(drop_columns)\n",
    "COL = len(docs[0]['emb'])"
   ]
  },
  {
   "cell_type": "code",
   "execution_count": null,
   "id": "b1ec6d20",
   "metadata": {},
   "outputs": [],
   "source": [
    "df = docs.to_pandas()\n",
    "df = df.drop_duplicates(subset=['wiki_id'],keep='first').set_index('wiki_id', drop=True)\n",
    "df.head()"
   ]
  },
  {
   "cell_type": "code",
   "execution_count": null,
   "id": "c161d3da",
   "metadata": {},
   "outputs": [],
   "source": [
    "def lst_to_str(x):\n",
    "    return re.sub(r'[^ \\w+]', '', x).split()\n",
    "\n",
    "columns = ['title', 'text', 'username', 'article_id']\n",
    "df = pd.read_csv(FILENAME, names=columns, skiprows=1).drop(columns='text')\n",
    "df['username'] = df.username.apply(lst_to_str)"
   ]
  },
  {
   "cell_type": "code",
   "execution_count": null,
   "id": "7549d543",
   "metadata": {},
   "outputs": [],
   "source": [
    "df.head()"
   ]
  },
  {
   "cell_type": "code",
   "execution_count": null,
   "id": "f7cc0955",
   "metadata": {},
   "outputs": [],
   "source": [
    "# setting up spark\n",
    "from pyspark.sql import SparkSession\n",
    "import pyspark\n",
    "\n",
    "spark = SparkSession.builder.master(SPARK_MASTER) \\\n",
    "                            .config('spark.executor.memory', '4G') \\\n",
    "                            .config('spark.driver.memory', '60G') \\\n",
    "                            .config(\"spark.memory.offHeap.enabled\", True) \\\n",
    "                            .config(\"spark.memory.offHeap.size\",\"16g\") \\\n",
    "                            .appName('ProcessData') \\\n",
    "                            .getOrCreate()\n",
    "\n",
    "spark"
   ]
  },
  {
   "cell_type": "code",
   "execution_count": null,
   "id": "8068f4ba",
   "metadata": {},
   "outputs": [],
   "source": [
    "spark_df = spark.createDataFrame(df)"
   ]
  },
  {
   "cell_type": "code",
   "execution_count": null,
   "id": "c290570e",
   "metadata": {},
   "outputs": [],
   "source": [
    "spark_df.head()"
   ]
  },
  {
   "cell_type": "code",
   "execution_count": null,
   "id": "f41f4d66",
   "metadata": {},
   "outputs": [],
   "source": [
    "from pyspark.sql.functions import explode, collect_list, udf, count\n",
    "from collections import Counter\n",
    "\n",
    "exploded = spark_df.select(spark_df.article_id, explode(spark_df.username).alias('username'))\n",
    "collapsed = exploded.groupBy(\"username\", \"article_id\").agg(count(\"article_id\").alias('count'))\n",
    "collapsed.show()"
   ]
  },
  {
   "cell_type": "code",
   "execution_count": null,
   "id": "a2febe77",
   "metadata": {},
   "outputs": [],
   "source": [
    "def get_editors_list(editor):\n",
    "    return collapsed.filter(collapsed.username == editor).select('article_id', 'count').rdd.map(tuple).collect()\n",
    "get_editors_list('Alaibot')"
   ]
  },
  {
   "cell_type": "code",
   "execution_count": null,
   "id": "5665e172",
   "metadata": {},
   "outputs": [],
   "source": [
    "from typing import List, Tuple\n",
    "import numpy as np\n",
    "import math\n",
    "\n",
    "# each editor has a list of (article_id, count) of the things they edited\n",
    "# assuming all id in list is unique\n",
    "def calculate_editor_variance(editors : List[Tuple[int, int]]):\n",
    "    article_ids, weights = zip(*editors)\n",
    "    matrix = [get_embedding(article_id) for article_id in article_ids]\n",
    "    return calculate_multid_distance(matrix, weights)\n",
    "\n",
    "# get embedding of an article. either LDA or Cohere's dataset\n",
    "# using Cohere rn\n",
    "def get_embedding(article_id):\n",
    "    if article_id not in df:\n",
    "        print(f\"Didn't find article {article_id}\")\n",
    "        return np.random.rand(COL)\n",
    "    return df.loc[article_id , 'emb']\n",
    "\n",
    "\"\"\"\n",
    "Take in matrix of article x embedding and article's respective weight, return their variance in k-dimension\n",
    "this is easier to interpret when using LDA (since you can see how far editors stray on certain topic, \n",
    "    assuming topic itself is indepedent)\n",
    "With vaguer embedding, it's better to use the L2 norm and compress it to a single number\n",
    "\"\"\"\n",
    "def calculate_multid_variance(matrix, weights):\n",
    "    average = np.average(matrix, weights=weights, axis=0)\n",
    "    variance = np.average((matrix-average)**2, weights=weights, axis=0)\n",
    "    return np.sqrt(variance)\n",
    "\n",
    "\"\"\"\n",
    "Calculate L2 distance for each d-dimension point\n",
    "\"\"\"\n",
    "def calculate_multid_distance(matrix, weights):\n",
    "    average = np.average(matrix, weights=weights, axis=0)\n",
    "    l2 = np.linalg.norm(matrix-average, axis=1)\n",
    "    return np.average(l2)"
   ]
  },
  {
   "cell_type": "code",
   "execution_count": null,
   "id": "b2a65329",
   "metadata": {},
   "outputs": [],
   "source": [
    "calculate_editor_variance(get_editors_list('Alaibot'))"
   ]
  },
  {
   "cell_type": "code",
   "execution_count": null,
   "id": "f89d81d0",
   "metadata": {},
   "outputs": [],
   "source": []
  }
 ],
 "metadata": {
  "kernelspec": {
   "display_name": "Python 3 (ipykernel)",
   "language": "python",
   "name": "python3"
  },
  "language_info": {
   "codemirror_mode": {
    "name": "ipython",
    "version": 3
   },
   "file_extension": ".py",
   "mimetype": "text/x-python",
   "name": "python",
   "nbconvert_exporter": "python",
   "pygments_lexer": "ipython3",
   "version": "3.8.12"
  }
 },
 "nbformat": 4,
 "nbformat_minor": 5
}
