{
 "cells": [
  {
   "cell_type": "code",
   "execution_count": 1,
   "id": "2b865ba5",
   "metadata": {},
   "outputs": [],
   "source": [
    "# HPC deployment\n",
    "SPARK_MASTER = 'spark://cs445:64818'\n",
    "FILE_DIR = '/scratch/si2073/output'\n",
    "TARGET_PATH = '/scratch/tmv7269/datasets/'\n",
    "EXAMPLE_FILE = FILE_DIR + '/enwiki-20230401-pages-meta-history10.xml-p4045403p4096288.csv'"
   ]
  },
  {
   "cell_type": "code",
   "execution_count": 2,
   "id": "0ed83773",
   "metadata": {},
   "outputs": [],
   "source": [
    "from pyspark.sql.functions import explode, collect_list, udf, count, first, col, array, sum\n",
    "from pyspark.sql.types import StructType, StructField, ArrayType, StringType\n",
    "import pandas as pd\n",
    "import numpy as np"
   ]
  },
  {
   "cell_type": "code",
   "execution_count": 3,
   "id": "84dd3471",
   "metadata": {},
   "outputs": [],
   "source": [
    "import re\n",
    "import datasets\n",
    "import os\n",
    "from pathlib import Path\n",
    "from huggingface_hub import snapshot_download\n",
    "\n",
    "os.environ[\"HF_HOME\"] = TARGET_PATH\n",
    "os.environ[\"HF_DATASETS_CACHE\"] = TARGET_PATH"
   ]
  },
  {
   "cell_type": "code",
   "execution_count": 4,
   "id": "ea2c45c1",
   "metadata": {},
   "outputs": [
    {
     "data": {
      "application/vnd.jupyter.widget-view+json": {
       "model_id": "eafe64fa3d464a929269cff74fcb1de6",
       "version_major": 2,
       "version_minor": 0
      },
      "text/plain": [
       "Fetching 256 files:   0%|          | 0/256 [00:00<?, ?it/s]"
      ]
     },
     "metadata": {},
     "output_type": "display_data"
    },
    {
     "data": {
      "text/plain": [
       "'/scratch/tmv7269/datasets'"
      ]
     },
     "execution_count": 4,
     "metadata": {},
     "output_type": "execute_result"
    }
   ],
   "source": [
    "snapshot_download(repo_id=\"Cohere/wikipedia-22-12-en-embeddings\", \n",
    "                  local_dir=TARGET_PATH,\n",
    "                  cache_dir=TARGET_PATH,\n",
    "                  repo_type=\"dataset\")"
   ]
  },
  {
   "cell_type": "markdown",
   "id": "f16d22a2",
   "metadata": {},
   "source": [
    "# Construct the Spark rdd for documents embedding"
   ]
  },
  {
   "cell_type": "code",
   "execution_count": 5,
   "id": "f7cc0955",
   "metadata": {},
   "outputs": [
    {
     "name": "stderr",
     "output_type": "stream",
     "text": [
      "WARNING: An illegal reflective access operation has occurred\n",
      "WARNING: Illegal reflective access by org.apache.spark.unsafe.Platform (file:/ext3/spark-3.1.2-bin-hadoop3.2/jars/spark-unsafe_2.12-3.1.2.jar) to constructor java.nio.DirectByteBuffer(long,int)\n",
      "WARNING: Please consider reporting this to the maintainers of org.apache.spark.unsafe.Platform\n",
      "WARNING: Use --illegal-access=warn to enable warnings of further illegal reflective access operations\n",
      "WARNING: All illegal access operations will be denied in a future release\n",
      "23/05/08 00:04:50 WARN NativeCodeLoader: Unable to load native-hadoop library for your platform... using builtin-java classes where applicable\n",
      "Using Spark's default log4j profile: org/apache/spark/log4j-defaults.properties\n",
      "Setting default log level to \"WARN\".\n",
      "To adjust logging level use sc.setLogLevel(newLevel). For SparkR, use setLogLevel(newLevel).\n"
     ]
    },
    {
     "data": {
      "text/html": [
       "\n",
       "            <div>\n",
       "                <p><b>SparkSession - in-memory</b></p>\n",
       "                \n",
       "        <div>\n",
       "            <p><b>SparkContext</b></p>\n",
       "\n",
       "            <p><a href=\"http://cs445.hpc.nyu.edu:4040\">Spark UI</a></p>\n",
       "\n",
       "            <dl>\n",
       "              <dt>Version</dt>\n",
       "                <dd><code>v3.1.2</code></dd>\n",
       "              <dt>Master</dt>\n",
       "                <dd><code>spark://cs445:64818</code></dd>\n",
       "              <dt>AppName</dt>\n",
       "                <dd><code>ProcessData</code></dd>\n",
       "            </dl>\n",
       "        </div>\n",
       "        \n",
       "            </div>\n",
       "        "
      ],
      "text/plain": [
       "<pyspark.sql.session.SparkSession at 0x1519f8097760>"
      ]
     },
     "execution_count": 5,
     "metadata": {},
     "output_type": "execute_result"
    }
   ],
   "source": [
    "# setting up spark\n",
    "from pyspark.sql import SparkSession\n",
    "from pyspark.sql.functions import udf\n",
    "import pyspark\n",
    "\n",
    "spark = SparkSession.builder.master(SPARK_MASTER) \\\n",
    "                            .config('spark.executor.memory', '4G') \\\n",
    "                            .config('spark.driver.memory', '60G') \\\n",
    "                            .config(\"spark.memory.offHeap.enabled\", True) \\\n",
    "                            .config(\"spark.memory.offHeap.size\",\"16g\") \\\n",
    "                            .appName('ProcessData') \\\n",
    "                            .getOrCreate()\n",
    "spark.sparkContext.setLogLevel(\"Off\")\n",
    "spark"
   ]
  },
  {
   "cell_type": "code",
   "execution_count": 6,
   "id": "58f91eeb",
   "metadata": {},
   "outputs": [
    {
     "name": "stderr",
     "output_type": "stream",
     "text": [
      "[Stage 1:====================================================>(1005 + 2) / 1007]\r"
     ]
    },
    {
     "name": "stdout",
     "output_type": "stream",
     "text": [
      "+-------+--------------------+\n",
      "|wiki_id|                 emb|\n",
      "+-------+--------------------+\n",
      "|   1088|[0.24366963, -0.6...|\n",
      "|   1580|[0.0684566, 0.260...|\n",
      "|   1645|[0.3224766, 0.458...|\n",
      "|   2122|[0.111770935, 0.4...|\n",
      "|   2866|[-0.2080042, -0.2...|\n",
      "|   3175|[0.16152096, 0.30...|\n",
      "|   3794|[0.051881086, 0.4...|\n",
      "|   3997|[0.27129447, 0.53...|\n",
      "|   4101|[0.34501484, -0.1...|\n",
      "|   4519|[0.33576313, 0.24...|\n",
      "|   5300|[0.3257199, -0.34...|\n",
      "|   6336|[0.38157865, 0.15...|\n",
      "|   6357|[0.39418507, -0.2...|\n",
      "|   6466|[-0.1551857, 1.00...|\n",
      "|   6620|[0.12537971, 0.51...|\n",
      "|   6654|[-0.105314195, 0....|\n",
      "|   7253|[0.25702828, 0.55...|\n",
      "|   7554|[0.2620884, 0.488...|\n",
      "|   7833|[0.24061485, 0.41...|\n",
      "|   8086|[0.3114842, -0.26...|\n",
      "+-------+--------------------+\n",
      "only showing top 20 rows\n",
      "\n"
     ]
    },
    {
     "name": "stderr",
     "output_type": "stream",
     "text": [
      "                                                                                \r"
     ]
    }
   ],
   "source": [
    "# Load Cohere's full dataset\n",
    "drop_columns = ['text', 'id', 'url', 'title', 'langs', 'paragraph_id', 'views']\n",
    "id_emb_map = spark.read.parquet(f\"{TARGET_PATH}/data\").drop(*drop_columns).drop_duplicates(subset=['wiki_id'])\n",
    "id_emb_map.show()"
   ]
  },
  {
   "cell_type": "code",
   "execution_count": 7,
   "id": "77e95efb",
   "metadata": {},
   "outputs": [
    {
     "name": "stderr",
     "output_type": "stream",
     "text": [
      "                                                                                \r"
     ]
    },
    {
     "data": {
      "text/plain": [
       "5745033"
      ]
     },
     "execution_count": 7,
     "metadata": {},
     "output_type": "execute_result"
    }
   ],
   "source": [
    "id_emb_map.count()"
   ]
  },
  {
   "cell_type": "markdown",
   "id": "ac743cb6",
   "metadata": {},
   "source": [
    "# Reading in editors csv"
   ]
  },
  {
   "cell_type": "code",
   "execution_count": 8,
   "id": "c161d3da",
   "metadata": {},
   "outputs": [],
   "source": [
    "def lst_to_str(x):\n",
    "    return re.sub(r'[^ \\w+]', '', x).split()\n",
    "\n",
    "columns = ['title', 'text', 'username', 'article_id']\n",
    "df = pd.read_csv(EXAMPLE_FILE, names=columns, skiprows=1).drop(columns='text')\n",
    "df['username'] = df.username.apply(lst_to_str)"
   ]
  },
  {
   "cell_type": "code",
   "execution_count": 9,
   "id": "7549d543",
   "metadata": {},
   "outputs": [
    {
     "data": {
      "text/plain": [
       "title         30246\n",
       "username      30246\n",
       "article_id    30246\n",
       "dtype: int64"
      ]
     },
     "execution_count": 9,
     "metadata": {},
     "output_type": "execute_result"
    }
   ],
   "source": [
    "df.count()"
   ]
  },
  {
   "cell_type": "code",
   "execution_count": 10,
   "id": "8068f4ba",
   "metadata": {},
   "outputs": [],
   "source": [
    "spark_df = spark.createDataFrame(df)"
   ]
  },
  {
   "cell_type": "code",
   "execution_count": 11,
   "id": "c290570e",
   "metadata": {
    "scrolled": true
   },
   "outputs": [
    {
     "data": {
      "text/plain": [
       "Row(title='Foster Air Force Base', username=['Dirtydan667', 'Dirtydan667', 'RussBot', 'Ktr101', 'Ktr101', 'Ktr101', 'Ktr101', 'Ndunruh', 'PigFlu', 'Oink', 'Bwmoll3', 'LilHelpa', 'ColoBill4', 'ColoBill4', 'Ground', 'Zero', 'Bwmoll3', 'Bwmoll3', 'Bwmoll3', 'Bwmoll3', 'Bwmoll3', 'Bwmoll3', 'Bwmoll3', 'Bwmoll3', 'Bwmoll3', 'Bwmoll3', 'Bwmoll3', 'Bwmoll3', 'Bwmoll3', 'Bwmoll3', 'Bwmoll3', 'Bwmoll3', 'Bwmoll3', 'Bwmoll3', 'Bwmoll3', 'Bwmoll3', 'Bwmoll3', 'Bwmoll3', 'Bwmoll3', 'Bwmoll3', 'Bwmoll3', 'Bwmoll3', 'Bwmoll3', 'Bwmoll3', 'Bwmoll3', 'Bwmoll3', 'Bwmoll3', 'Bwmoll3', 'Bwmoll3', 'Bwmoll3', 'Bwmoll3', 'Bwmoll3', 'Bwmoll3', 'Vanished', 'user', '31415926535897932384626433', 'Firsfron', 'Bwmoll3', 'Bwmoll3', 'Bwmoll3', 'Bwmoll3', 'Bwmoll3', 'Bwmoll3', 'DiiCinta', 'Bwmoll3', 'Bwmoll3', 'Backspace', 'Rich', 'Farmbrough', 'Mark', 'Sublette', 'Mark', 'Sublette', 'Mark', 'Sublette', 'Kumioko', 'renamed', 'Ulric1313', 'Mark', 'Sublette', 'Ulric1313', 'Mark', 'Sublette', 'Lightmouse', 'Gcstackmoney', 'RjwilmsiBot', 'Jllm06', 'Bwmoll3', 'TGC55', 'Chris', 'the', 'speller', 'Bwmoll3', 'Matthewrb', 'Rrius', 'AvicBot', 'Tim', 'Lineagegeek', 'Lineagegeek', 'John', 'of', 'Reading', 'FrescoBot', 'Frze', 'Frze', 'Frze', 'Bwmoll3', 'Bwmoll3', 'Bwmoll3', 'Frietjes', 'Noahritter4918', 'Noahritter4918', 'WilliamJE', 'Connor7617', 'Connor7617', 'Connor7617', 'BattyBot', 'NiD29', 'FrescoBot', 'Dawnseeker2000', 'Frietjes', 'Magic', 'links', 'bot', 'Buckshot06', 'InternetArchiveBot', 'JJMC89', 'JJMC89', 'Monkbot', 'Sun', 'Creator', 'Ryboy42', 'Glacier109', 'Glacier109', 'TomReding', 'Srich32977', 'Srich32977', 'Srich32977', 'Citation', 'bot'], article_id=4045403)"
      ]
     },
     "execution_count": 11,
     "metadata": {},
     "output_type": "execute_result"
    }
   ],
   "source": [
    "spark_df.head()"
   ]
  },
  {
   "cell_type": "code",
   "execution_count": 12,
   "id": "f41f4d66",
   "metadata": {},
   "outputs": [
    {
     "name": "stderr",
     "output_type": "stream",
     "text": [
      "[Stage 8:================================================>     (179 + 21) / 200]\r"
     ]
    },
    {
     "name": "stdout",
     "output_type": "stream",
     "text": [
      "+---------------+-----+--------------------+\n",
      "|       username|count|                 emb|\n",
      "+---------------+-----+--------------------+\n",
      "|TheRedPenOfDoom|    2|[-0.159246, 0.024...|\n",
      "|      Waacstats|    1|[-0.159246, 0.024...|\n",
      "|           Saji|    1|[-0.159246, 0.024...|\n",
      "|      KasparBot|    1|[-0.159246, 0.024...|\n",
      "|       Kathanar|    2|[-0.159246, 0.024...|\n",
      "|    Shyamsunder|    3|[-0.159246, 0.024...|\n",
      "|        Hockett|    1|[-0.159246, 0.024...|\n",
      "|       PrimeBOT|    1|[-0.159246, 0.024...|\n",
      "|Pancakeslover11|    1|[-0.159246, 0.024...|\n",
      "|             NG|    1|[-0.159246, 0.024...|\n",
      "|         Srivin|    1|[-0.159246, 0.024...|\n",
      "|        Pkbwcgs|    1|[-0.159246, 0.024...|\n",
      "|          Tachs|    3|[-0.159246, 0.024...|\n",
      "|            bot|    5|[-0.159246, 0.024...|\n",
      "|     KolbertBot|    1|[-0.159246, 0.024...|\n",
      "|      TomReding|    1|[-0.159246, 0.024...|\n",
      "|       Citation|    1|[-0.159246, 0.024...|\n",
      "|        Auntof6|    1|[-0.159246, 0.024...|\n",
      "|        Bluebot|    1|[-0.159246, 0.024...|\n",
      "|       Roboture|    1|[-0.159246, 0.024...|\n",
      "+---------------+-----+--------------------+\n",
      "only showing top 20 rows\n",
      "\n"
     ]
    },
    {
     "name": "stderr",
     "output_type": "stream",
     "text": [
      "                                                                                \r"
     ]
    }
   ],
   "source": [
    "from pyspark.sql.functions import explode, collect_list, count, udf, avg\n",
    "from pyspark.sql.types import DoubleType\n",
    "from collections import Counter\n",
    "\n",
    "exploded = spark_df.select(spark_df.article_id, explode(spark_df.username).alias('username'))\n",
    "collapsed = exploded.groupBy(\"username\", \"article_id\").agg(count(\"article_id\").alias('count'))\n",
    "collapsed = collapsed.join(id_emb_map,collapsed.article_id ==  id_emb_map.wiki_id,\"inner\")\n",
    "collapsed = collapsed.drop('article_id', 'wiki_id')\n",
    "collapsed.show()"
   ]
  },
  {
   "cell_type": "code",
   "execution_count": 13,
   "id": "b2a65329",
   "metadata": {},
   "outputs": [
    {
     "name": "stderr",
     "output_type": "stream",
     "text": [
      "[Stage 16:=========================>                           (96 + 104) / 200]\r"
     ]
    },
    {
     "name": "stdout",
     "output_type": "stream",
     "text": [
      "+-------------+--------------------+--------------------+\n",
      "|     username|                embs|              counts|\n",
      "+-------------+--------------------+--------------------+\n",
      "|           07|[[-0.36483073, 0....|[2, 1, 3, 2, 1, 1...|\n",
      "| 11deadpool11|[[0.18078326, 0.2...|                 [1]|\n",
      "|      4meter4|[[-0.027774015, 0...|[1, 1, 3, 1, 1, 2...|\n",
      "|      4owowoo|[[0.6785187, -0.1...|                 [1]|\n",
      "|    A1octopus|[[0.08518514, 0.2...|                 [2]|\n",
      "|          Aa4|[[0.04368933, -0....|                 [2]|\n",
      "|AaronzAccount|[[0.049395856, 0....|                 [3]|\n",
      "|          Ahc|[[0.19575398, 0.1...|                 [1]|\n",
      "|      Ahendra|[[0.10124794, 0.1...|[4, 1, 4, 6, 188,...|\n",
      "|Ajaydhivyanth|[[0.07035242, -0....|                 [1]|\n",
      "|         Ales|[[-0.037420806, 0...|                 [2]|\n",
      "|   Algebraist|[[0.14202555, 0.2...|           [1, 1, 1]|\n",
      "|     Alienpmk|[[0.30616087, -0....|                 [3]|\n",
      "|      Amazing|[[0.20678379, -0....|              [1, 1]|\n",
      "|Amershakigaga|[[-0.043731835, 0...|                 [1]|\n",
      "|  Andresderis|[[0.28334227, 0.0...|                 [6]|\n",
      "|     Andresp1|[[-0.13148901, 0....|                 [1]|\n",
      "|  Andrewlumbo|[[-0.15463409, -0...|        [38, 61, 10]|\n",
      "|   Andvari967|[[-0.07250383, -0...|                 [2]|\n",
      "|       Ansari|[[-0.35793626, 0....|              [2, 1]|\n",
      "+-------------+--------------------+--------------------+\n",
      "only showing top 20 rows\n",
      "\n"
     ]
    },
    {
     "name": "stderr",
     "output_type": "stream",
     "text": [
      "                                                                                \r"
     ]
    }
   ],
   "source": [
    "editors_collapsed = collapsed.groupby('username').agg(collect_list('emb').alias('embs'), collect_list('count').alias('counts'))\n",
    "editors_collapsed.show()"
   ]
  },
  {
   "cell_type": "code",
   "execution_count": 16,
   "id": "5665e172",
   "metadata": {},
   "outputs": [],
   "source": [
    "from typing import List, Tuple\n",
    "import numpy as np\n",
    "import math\n",
    "import itertools\n",
    "\n",
    "# each editor has a list of ([emb], count) of the things they edited\n",
    "# assuming all id in list is unique\n",
    "def calculate_editor_variance(matrix : List[List[int]], weights : List[int]):\n",
    "    return float(calculate_multid_distance(matrix, weights))\n",
    "\n",
    "\"\"\"\n",
    "Take in matrix of article x embedding and article's respective weight, return their variance in k-dimension\n",
    "this is easier to interpret when using LDA (since you can see how far editors stray on certain topic, \n",
    "    assuming topic itself is indepedent)\n",
    "With vaguer embedding, it's better to use the L2 norm and compress it to a single number\n",
    "\"\"\"\n",
    "def calculate_multid_variance(matrix, weights):\n",
    "    average = np.average(matrix, weights=weights, axis=0)\n",
    "    variance = np.average((matrix-average)**2, weights=weights, axis=0)\n",
    "    return np.sqrt(variance)\n",
    "\n",
    "\"\"\"\n",
    "Calculate L2 distance for each d-dimension point\n",
    "\"\"\"\n",
    "def calculate_multid_distance(matrix, weights):\n",
    "    average = np.average(matrix, weights=weights, axis=0)\n",
    "    l2 = np.linalg.norm(matrix-average, axis=1)\n",
    "    return np.average(l2)"
   ]
  },
  {
   "cell_type": "code",
   "execution_count": 58,
   "id": "7876f34f",
   "metadata": {},
   "outputs": [
    {
     "name": "stderr",
     "output_type": "stream",
     "text": [
      "[Stage 200:================================================>   (186 + 14) / 200]\r"
     ]
    },
    {
     "name": "stdout",
     "output_type": "stream",
     "text": [
      "+-------------+--------------------+--------------------+------------------+\n",
      "|     username|                embs|              counts|          variance|\n",
      "+-------------+--------------------+--------------------+------------------+\n",
      "|           07|[[0.4635992, 0.46...|[2, 3, 1, 1, 1, 2...| 7.138805817490526|\n",
      "| 11deadpool11|[[0.18078326, 0.2...|                 [1]|               0.0|\n",
      "|      4meter4|[[0.39415038, 0.4...|[1, 2, 3, 1, 1, 1...| 6.580253111103204|\n",
      "|      4owowoo|[[0.6785187, -0.1...|                 [1]|               0.0|\n",
      "|    A1octopus|[[0.08518514, 0.2...|                 [2]|               0.0|\n",
      "|          Aa4|[[0.04368933, -0....|                 [2]|               0.0|\n",
      "|AaronzAccount|[[0.049395856, 0....|                 [3]|               0.0|\n",
      "|          Ahc|[[0.19575398, 0.1...|                 [1]|               0.0|\n",
      "|      Ahendra|[[0.0662515, -0.3...|[188, 4, 6, 119, ...| 6.059694284573164|\n",
      "|Ajaydhivyanth|[[0.07035242, -0....|                 [1]|               0.0|\n",
      "|         Ales|[[-0.037420806, 0...|                 [2]|               0.0|\n",
      "|   Algebraist|[[0.14202555, 0.2...|           [1, 1, 1]| 6.300475192825399|\n",
      "|     Alienpmk|[[0.30616087, -0....|                 [3]|               0.0|\n",
      "|      Amazing|[[0.20678379, -0....|              [1, 1]| 6.450000983099136|\n",
      "|Amershakigaga|[[-0.043731835, 0...|                 [1]|               0.0|\n",
      "|  Andresderis|[[0.28334227, 0.0...|                 [6]|               0.0|\n",
      "|     Andresp1|[[-0.13148901, 0....|                 [1]|               0.0|\n",
      "|  Andrewlumbo|[[-0.15463409, -0...|        [38, 61, 10]|  4.31249974789569|\n",
      "|   Andvari967|[[-0.07250383, -0...|                 [2]|               0.0|\n",
      "|       Ansari|[[-0.14890485, 0....|              [1, 2]|3.5326001587462974|\n",
      "+-------------+--------------------+--------------------+------------------+\n",
      "only showing top 20 rows\n",
      "\n"
     ]
    },
    {
     "name": "stderr",
     "output_type": "stream",
     "text": [
      "                                                                                \r"
     ]
    }
   ],
   "source": [
    "calc_variance_udf = udf(calculate_editor_variance, DoubleType())\n",
    "editors_variance = editors_collapsed.withColumn('variance', calc_variance_udf(editors_collapsed.embs, editors_collapsed.counts))\n",
    "editors_variance.show()"
   ]
  },
  {
   "cell_type": "code",
   "execution_count": 51,
   "id": "03275ed1",
   "metadata": {},
   "outputs": [
    {
     "name": "stderr",
     "output_type": "stream",
     "text": [
      "                                                                                \r"
     ]
    },
    {
     "data": {
      "image/png": "[encoded data removed]",
      "text/plain": [
       "<Figure size 432x288 with 1 Axes>"
      ]
     },
     "metadata": {
      "needs_background": "light"
     },
     "output_type": "display_data"
    }
   ],
   "source": [
    "from matplotlib import pyplot as plt\n",
    "all_variances = editors_variance.rdd.map(lambda x : x.variance + 1).collect()\n",
    "plt.title('Logscale of variance')\n",
    "plt.hist(np.log(all_variances))\n",
    "plt.show()"
   ]
  },
  {
   "cell_type": "code",
   "execution_count": 69,
   "id": "718e0d83",
   "metadata": {},
   "outputs": [
    {
     "name": "stderr",
     "output_type": "stream",
     "text": [
      "                                                                                \r"
     ]
    },
    {
     "data": {
      "image/png": "[encoded data removed]",
      "text/plain": [
       "<Figure size 432x288 with 1 Axes>"
      ]
     },
     "metadata": {
      "needs_background": "light"
     },
     "output_type": "display_data"
    },
    {
     "name": "stdout",
     "output_type": "stream",
     "text": [
      "Average edit is 4.5872085802991815\n"
     ]
    }
   ],
   "source": [
    "# get number of edits for prolific editors (edit more than the average amount) and plot it\n",
    "average_edit =  editors_variance.select(avg(size('counts'))).collect()[0][0]\n",
    "prolific_editors = editors_variance.filter(size('counts') > average_edit)\n",
    "prolific_variance = prolific_editors.rdd.map(lambda x : x.variance + 1).collect()\n",
    "plt.title('Logscale of prolific editors\\' variance')\n",
    "plt.hist(np.log(prolific_variance))\n",
    "plt.show()\n",
    "print(f\"Average edit is {average_edit}\")"
   ]
  },
  {
   "cell_type": "code",
   "execution_count": 52,
   "id": "396aa63b",
   "metadata": {},
   "outputs": [
    {
     "name": "stderr",
     "output_type": "stream",
     "text": [
      "                                                                                \r"
     ]
    },
    {
     "data": {
      "image/png": "[encoded data removed]",
      "text/plain": [
       "<Figure size 432x288 with 1 Axes>"
      ]
     },
     "metadata": {
      "needs_background": "light"
     },
     "output_type": "display_data"
    }
   ],
   "source": [
    "# Get number of edits for each editors and plot it\n",
    "# using logscale since normal scale is way too tilted\n",
    "from pyspark.sql.functions import size\n",
    "editors_edit_counts = editors_variance.select(size('counts').alias('cnt')).rdd.map(lambda x : x.cnt).collect()\n",
    "editors_edit_counts = [num for num in editors_edit_counts if num > 2]\n",
    "plt.title('Logscale of edits on each editors')\n",
    "plt.hist(np.log(editors_edit_counts))\n",
    "plt.show()"
   ]
  },
  {
   "cell_type": "code",
   "execution_count": 53,
   "id": "4a47d5f3",
   "metadata": {},
   "outputs": [
    {
     "data": {
      "image/png": "[encoded data removed]",
      "text/plain": [
       "<Figure size 432x288 with 1 Axes>"
      ]
     },
     "metadata": {
      "needs_background": "light"
     },
     "output_type": "display_data"
    }
   ],
   "source": [
    "# get number of edits for each articles and plot it\n",
    "article_edit_counts = spark_df.select(size('username').alias('cnt')).rdd.map(lambda x : x.cnt + 1).collect()\n",
    "plt.title('Logscale of edits on each articles')\n",
    "plt.hist(np.log(article_edit_counts))\n",
    "plt.show()"
   ]
  }
 ],
 "metadata": {
  "kernelspec": {
   "display_name": "Python 3 (ipykernel)",
   "language": "python",
   "name": "python3"
  },
  "language_info": {
   "codemirror_mode": {
    "name": "ipython",
    "version": 3
   },
   "file_extension": ".py",
   "mimetype": "text/x-python",
   "name": "python",
   "nbconvert_exporter": "python",
   "pygments_lexer": "ipython3",
   "version": "3.8.12"
  }
 },
 "nbformat": 4,
 "nbformat_minor": 5
}
