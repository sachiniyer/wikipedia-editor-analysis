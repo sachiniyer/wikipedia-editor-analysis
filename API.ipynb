{
 "cells": [
  {
   "cell_type": "code",
   "execution_count": 1,
   "id": "822bbba6-66a8-4c6d-b6bf-39bbd5fc3236",
   "metadata": {},
   "outputs": [],
   "source": [
    "from datasets import load_dataset\n",
    "import pandas as pd\n",
    "import time\n",
    "import numpy as np"
   ]
  },
  {
   "cell_type": "code",
   "execution_count": 2,
   "id": "6d1317b6-87a5-4959-bcac-56685609dca4",
   "metadata": {},
   "outputs": [
    {
     "name": "stderr",
     "output_type": "stream",
     "text": [
      "Found cached dataset parquet (C:/Users/vomin/.cache/huggingface/datasets/Cohere___parquet/Cohere--wikipedia-22-12-simple-embeddings-94deea3d55a22093/0.0.0/2a3b91fbd88a2c90d1dbbb32b460cf621d31bd5b05b934492fdef7d8d6f236ec)\n"
     ]
    }
   ],
   "source": [
    "docs = load_dataset(f\"Cohere/wikipedia-22-12-simple-embeddings\", split=\"train\").remove_columns('text')"
   ]
  },
  {
   "cell_type": "code",
   "execution_count": 3,
   "id": "fa7ecbed",
   "metadata": {},
   "outputs": [
    {
     "data": {
      "text/plain": [
       "Dataset({\n",
       "    features: ['id', 'title', 'url', 'wiki_id', 'views', 'paragraph_id', 'langs', 'emb'],\n",
       "    num_rows: 485859\n",
       "})"
      ]
     },
     "execution_count": 3,
     "metadata": {},
     "output_type": "execute_result"
    }
   ],
   "source": [
    "docs"
   ]
  },
  {
   "cell_type": "code",
   "execution_count": 4,
   "id": "8d7ccee8",
   "metadata": {},
   "outputs": [
    {
     "data": {
      "text/plain": [
       "485859"
      ]
     },
     "execution_count": 4,
     "metadata": {},
     "output_type": "execute_result"
    }
   ],
   "source": [
    "len(docs)"
   ]
  },
  {
   "cell_type": "code",
   "execution_count": 5,
   "id": "194fbe31-19a0-43fe-992a-3600f67c723f",
   "metadata": {},
   "outputs": [
    {
     "data": {
      "text/html": [
       "\n",
       "            <div>\n",
       "                <p><b>SparkSession - in-memory</b></p>\n",
       "                \n",
       "        <div>\n",
       "            <p><b>SparkContext</b></p>\n",
       "\n",
       "            <p><a href=\"http://10.18.240.237:4050\">Spark UI</a></p>\n",
       "\n",
       "            <dl>\n",
       "              <dt>Version</dt>\n",
       "                <dd><code>v3.3.0</code></dd>\n",
       "              <dt>Master</dt>\n",
       "                <dd><code>local[*]</code></dd>\n",
       "              <dt>AppName</dt>\n",
       "                <dd><code>pyspark-shell</code></dd>\n",
       "            </dl>\n",
       "        </div>\n",
       "        \n",
       "            </div>\n",
       "        "
      ],
      "text/plain": [
       "<pyspark.sql.session.SparkSession at 0x2d746869ea0>"
      ]
     },
     "execution_count": 5,
     "metadata": {},
     "output_type": "execute_result"
    }
   ],
   "source": [
    "import pyspark\n",
    "from pyspark import SparkContext, SparkConf\n",
    "\n",
    "# create the session\n",
    "conf = SparkConf().set(\"spark.ui.port\", \"4050\")\n",
    "\n",
    "# create the context\n",
    "sc = pyspark.SparkContext.getOrCreate(conf=conf)\n",
    "spark = pyspark.sql.SparkSession.builder.getOrCreate()\n",
    "\n",
    "spark"
   ]
  },
  {
   "cell_type": "code",
   "execution_count": null,
   "id": "14c12f02-d3a5-47e1-9dfd-4909172b436b",
   "metadata": {},
   "outputs": [],
   "source": [
    "spark_df = spark.createDataFrame(docs)\n",
    "spark_df.set_index('id', inplace=True)\n",
    "print(spark_df.columns, len(spark_df))"
   ]
  },
  {
   "cell_type": "code",
   "execution_count": null,
   "id": "d3ac44cc",
   "metadata": {},
   "outputs": [],
   "source": [
    "df = pd.DataFrame(docs)"
   ]
  },
  {
   "cell_type": "code",
   "execution_count": 6,
   "id": "1a27a058-2bea-4e87-8011-fcfba5fa99cb",
   "metadata": {},
   "outputs": [],
   "source": [
    "from typing import List, Tuple\n",
    "import numpy as np\n",
    "import math\n",
    "\n",
    "# each editor has a list of (article_id, count) of the things they edited\n",
    "# assuming all id in list is unique\n",
    "def calculate_editor_variance(editors : List[Tuple[int, int]]):\n",
    "    article_ids, weights = zip(*editors)\n",
    "    matrix = [get_embedding(article_id) for article_id in article_ids]\n",
    "    return calculate_multid_distance(matrix, weights)\n",
    "\n",
    "# get embedding of an article. either LDA or Cohere's dataset\n",
    "def get_embedding(article_id):\n",
    "    pass\n",
    "\n",
    "\"\"\"\n",
    "Take in matrix of article x embedding and article's respective weight, return their variance in k-dimension\n",
    "this is easier to interpret when using LDA (since you can see how far editors stray on certain topic, \n",
    "    assuming topic itself is indepedent)\n",
    "With vaguer embedding, it's better to use the L2 norm and compress it to a single number\n",
    "\"\"\"\n",
    "def calculate_multid_variance(matrix, weights):\n",
    "    average = np.average(matrix, weights=weights, axis=0)\n",
    "    variance = np.average((matrix-average)**2, weights=weights, axis=0)\n",
    "    return np.sqrt(variance)\n",
    "\n",
    "\"\"\"\n",
    "Calculate L2 distance for each d-dimension point\n",
    "\"\"\"\n",
    "def calculate_multid_distance(matrix, weights):\n",
    "    average = np.average(matrix, weights=weights, axis=0)\n",
    "    l2 = np.linalg.norm(matrix-average, axis=1)\n",
    "    return np.average(l2)"
   ]
  },
  {
   "cell_type": "code",
   "execution_count": 7,
   "id": "54816729",
   "metadata": {},
   "outputs": [],
   "source": [
    "test_data = pd.DataFrame(np.random.uniform(0,1,size=(4, 5)))\n",
    "weights = np.random.randint(0,100,size=(1,4))[0]"
   ]
  },
  {
   "cell_type": "code",
   "execution_count": 8,
   "id": "9634a4ea",
   "metadata": {},
   "outputs": [
    {
     "data": {
      "text/html": [
       "<div>\n",
       "<style scoped>\n",
       "    .dataframe tbody tr th:only-of-type {\n",
       "        vertical-align: middle;\n",
       "    }\n",
       "\n",
       "    .dataframe tbody tr th {\n",
       "        vertical-align: top;\n",
       "    }\n",
       "\n",
       "    .dataframe thead th {\n",
       "        text-align: right;\n",
       "    }\n",
       "</style>\n",
       "<table border=\"1\" class=\"dataframe\">\n",
       "  <thead>\n",
       "    <tr style=\"text-align: right;\">\n",
       "      <th></th>\n",
       "      <th>0</th>\n",
       "      <th>1</th>\n",
       "      <th>2</th>\n",
       "      <th>3</th>\n",
       "      <th>4</th>\n",
       "    </tr>\n",
       "  </thead>\n",
       "  <tbody>\n",
       "    <tr>\n",
       "      <th>0</th>\n",
       "      <td>0.792927</td>\n",
       "      <td>0.756664</td>\n",
       "      <td>0.636127</td>\n",
       "      <td>0.690646</td>\n",
       "      <td>0.462928</td>\n",
       "    </tr>\n",
       "    <tr>\n",
       "      <th>1</th>\n",
       "      <td>0.478519</td>\n",
       "      <td>0.385372</td>\n",
       "      <td>0.199834</td>\n",
       "      <td>0.733163</td>\n",
       "      <td>0.594628</td>\n",
       "    </tr>\n",
       "    <tr>\n",
       "      <th>2</th>\n",
       "      <td>0.809893</td>\n",
       "      <td>0.868929</td>\n",
       "      <td>0.694977</td>\n",
       "      <td>0.983426</td>\n",
       "      <td>0.261241</td>\n",
       "    </tr>\n",
       "    <tr>\n",
       "      <th>3</th>\n",
       "      <td>0.479650</td>\n",
       "      <td>0.275843</td>\n",
       "      <td>0.062372</td>\n",
       "      <td>0.115108</td>\n",
       "      <td>0.666105</td>\n",
       "    </tr>\n",
       "  </tbody>\n",
       "</table>\n",
       "</div>"
      ],
      "text/plain": [
       "          0         1         2         3         4\n",
       "0  0.792927  0.756664  0.636127  0.690646  0.462928\n",
       "1  0.478519  0.385372  0.199834  0.733163  0.594628\n",
       "2  0.809893  0.868929  0.694977  0.983426  0.261241\n",
       "3  0.479650  0.275843  0.062372  0.115108  0.666105"
      ]
     },
     "execution_count": 8,
     "metadata": {},
     "output_type": "execute_result"
    }
   ],
   "source": [
    "test_data"
   ]
  },
  {
   "cell_type": "code",
   "execution_count": 9,
   "id": "952ec616",
   "metadata": {},
   "outputs": [
    {
     "data": {
      "text/plain": [
       "array([ 9, 19, 57, 60])"
      ]
     },
     "execution_count": 9,
     "metadata": {},
     "output_type": "execute_result"
    }
   ],
   "source": [
    "weights"
   ]
  },
  {
   "cell_type": "code",
   "execution_count": 10,
   "id": "ed1c9ced",
   "metadata": {},
   "outputs": [
    {
     "name": "stdout",
     "output_type": "stream",
     "text": [
      "0.5179129267868693\n",
      "[0.16348741 0.27799026 0.29805536 0.39648004 0.18670579]\n"
     ]
    }
   ],
   "source": [
    "print(calculate_multid_distance(test_data, weights))\n",
    "print(calculate_multid_variance(test_data, weights))"
   ]
  }
 ],
 "metadata": {
  "kernelspec": {
   "display_name": "Python 3 (ipykernel)",
   "language": "python",
   "name": "python3"
  },
  "language_info": {
   "codemirror_mode": {
    "name": "ipython",
    "version": 3
   },
   "file_extension": ".py",
   "mimetype": "text/x-python",
   "name": "python",
   "nbconvert_exporter": "python",
   "pygments_lexer": "ipython3",
   "version": "3.10.10"
  }
 },
 "nbformat": 4,
 "nbformat_minor": 5
}
