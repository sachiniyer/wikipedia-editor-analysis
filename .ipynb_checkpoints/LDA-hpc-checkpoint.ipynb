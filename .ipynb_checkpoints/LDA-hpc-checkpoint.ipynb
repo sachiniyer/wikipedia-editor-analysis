{
 "cells": [
  {
   "cell_type": "code",
   "execution_count": null,
   "id": "655ac5cb",
   "metadata": {},
   "outputs": [],
   "source": [
    "# HPC cluster's pyspark is 3.1.2\n",
    "!pip install --upgrade datasets apache-beam pyspark==3.1.2 findspark"
   ]
  },
  {
   "cell_type": "code",
   "execution_count": 2,
   "id": "79ba6673",
   "metadata": {},
   "outputs": [],
   "source": [
    "import os\n",
    "os.environ[\"JAVA_HOME\"] = \"/usr/lib/jvm/java-8-openjdk/jre\"\n",
    "os.environ['PYSPARK_SUBMIT_ARGS'] = '--packages com.databricks:spark-xml_2.12:0.12.0 pyspark-shell' "
   ]
  },
  {
   "cell_type": "code",
   "execution_count": 6,
   "id": "ce57daf4",
   "metadata": {},
   "outputs": [],
   "source": [
    "current_context = SparkContext.getOrCreate()\n",
    "current_context.stop()"
   ]
  },
  {
   "cell_type": "code",
   "execution_count": 7,
   "id": "024a5ed6",
   "metadata": {},
   "outputs": [
    {
     "data": {
      "text/html": [
       "\n",
       "            <div>\n",
       "                <p><b>SparkSession - in-memory</b></p>\n",
       "                \n",
       "        <div>\n",
       "            <p><b>SparkContext</b></p>\n",
       "\n",
       "            <p><a href=\"http://cs071.hpc.nyu.edu:4040\">Spark UI</a></p>\n",
       "\n",
       "            <dl>\n",
       "              <dt>Version</dt>\n",
       "                <dd><code>v3.1.2</code></dd>\n",
       "              <dt>Master</dt>\n",
       "                <dd><code>spark://cs071:37356</code></dd>\n",
       "              <dt>AppName</dt>\n",
       "                <dd><code>LDA</code></dd>\n",
       "            </dl>\n",
       "        </div>\n",
       "        \n",
       "            </div>\n",
       "        "
      ],
      "text/plain": [
       "<pyspark.sql.session.SparkSession at 0x152b5aee2c10>"
      ]
     },
     "execution_count": 7,
     "metadata": {},
     "output_type": "execute_result"
    }
   ],
   "source": [
    "from pyspark import SparkContext, SparkConf\n",
    "from pyspark.sql import SparkSession\n",
    "import pyspark\n",
    "\n",
    "conf = SparkConf().setAppName(\"LDA\") \\\n",
    "                  .setMaster('spark://cs071:37356')\n",
    "\n",
    "\n",
    "sc = SparkContext(conf=conf)\n",
    "\n",
    "spark = SparkSession(sc)\n",
    "\n",
    "udf_registration = pyspark.sql.udf.UDFRegistration(spark)\n",
    "\n",
    "spark"
   ]
  },
  {
   "cell_type": "code",
   "execution_count": 8,
   "id": "c51856cc",
   "metadata": {},
   "outputs": [],
   "source": [
    "from datasets import load_dataset\n",
    "import pandas as pd\n",
    "import time\n",
    "\n",
    "# LDA parameters, go to max in production\n",
    "MAX_ITER = 100\n",
    "CHECKPOINT = 5\n",
    "K = 100"
   ]
  },
  {
   "cell_type": "code",
   "execution_count": 9,
   "id": "0c308dce",
   "metadata": {},
   "outputs": [
    {
     "name": "stderr",
     "output_type": "stream",
     "text": [
      "Found cached dataset wikipedia (/home/tmv7269/.cache/huggingface/datasets/wikipedia/20220301.en/2.0.0/aa542ed919df55cc5d3347f42dd4521d05ca68751f50dbc32bae2a7f1e167559)\n"
     ]
    },
    {
     "data": {
      "application/vnd.jupyter.widget-view+json": {
       "model_id": "8a1e0c7bb0804871ae85c3e974751465",
       "version_major": 2,
       "version_minor": 0
      },
      "text/plain": [
       "  0%|          | 0/1 [00:00<?, ?it/s]"
      ]
     },
     "metadata": {},
     "output_type": "display_data"
    },
    {
     "data": {
      "text/plain": [
       "DatasetDict({\n",
       "    train: Dataset({\n",
       "        features: ['id', 'url', 'title', 'text'],\n",
       "        num_rows: 6458670\n",
       "    })\n",
       "})"
      ]
     },
     "execution_count": 9,
     "metadata": {},
     "output_type": "execute_result"
    }
   ],
   "source": [
    "# change it to this to use the full 1m dataset\n",
    "# dataset = load_dataset(\"wikipedia\", \"20220301.en\")\n",
    "dataset = load_dataset(\"wikipedia\", \"20220301.en\")\n",
    "dataset"
   ]
  },
  {
   "cell_type": "code",
   "execution_count": null,
   "id": "a90f0d55",
   "metadata": {},
   "outputs": [
    {
     "name": "stderr",
     "output_type": "stream",
     "text": [
      "23/04/27 18:54:06 ERROR StandaloneSchedulerBackend: Application has been killed. Reason: Master removed our application: KILLED\n",
      "23/04/27 18:54:06 ERROR Inbox: Ignoring error\n",
      "org.apache.spark.SparkException: Exiting due to error from cluster scheduler: Master removed our application: KILLED\n",
      "\tat org.apache.spark.scheduler.TaskSchedulerImpl.error(TaskSchedulerImpl.scala:873)\n",
      "\tat org.apache.spark.scheduler.cluster.StandaloneSchedulerBackend.dead(StandaloneSchedulerBackend.scala:154)\n",
      "\tat org.apache.spark.deploy.client.StandaloneAppClient$ClientEndpoint.markDead(StandaloneAppClient.scala:262)\n",
      "\tat org.apache.spark.deploy.client.StandaloneAppClient$ClientEndpoint$$anonfun$receive$1.applyOrElse(StandaloneAppClient.scala:169)\n",
      "\tat org.apache.spark.rpc.netty.Inbox.$anonfun$process$1(Inbox.scala:115)\n",
      "\tat org.apache.spark.rpc.netty.Inbox.safelyCall(Inbox.scala:213)\n",
      "\tat org.apache.spark.rpc.netty.Inbox.process(Inbox.scala:100)\n",
      "\tat org.apache.spark.rpc.netty.MessageLoop.org$apache$spark$rpc$netty$MessageLoop$$receiveLoop(MessageLoop.scala:75)\n",
      "\tat org.apache.spark.rpc.netty.MessageLoop$$anon$1.run(MessageLoop.scala:41)\n",
      "\tat java.base/java.util.concurrent.ThreadPoolExecutor.runWorker(ThreadPoolExecutor.java:1128)\n",
      "\tat java.base/java.util.concurrent.ThreadPoolExecutor$Worker.run(ThreadPoolExecutor.java:628)\n",
      "\tat java.base/java.lang.Thread.run(Thread.java:829)\n"
     ]
    }
   ],
   "source": [
    "sparkDF = spark.createDataFrame(dataset['train'])\n",
    "sparkDF.columns"
   ]
  },
  {
   "cell_type": "code",
   "execution_count": null,
   "id": "5e1bedc3",
   "metadata": {},
   "outputs": [],
   "source": [
    "sparkDF.count()"
   ]
  },
  {
   "cell_type": "code",
   "execution_count": null,
   "id": "271b1d90",
   "metadata": {},
   "outputs": [],
   "source": [
    "from pyspark.ml.feature import StopWordsRemover, RegexTokenizer, CountVectorizer\n",
    "from pyspark.sql.functions import col,udf\n",
    "from pyspark.sql.types import IntegerType"
   ]
  },
  {
   "cell_type": "code",
   "execution_count": null,
   "id": "ac06e603",
   "metadata": {},
   "outputs": [],
   "source": [
    "tokenizer = RegexTokenizer(inputCol='text',outputCol='words', pattern = '[^a-zA-Z]')\n",
    "tokenized_df = tokenizer.transform(sparkDF).drop('text')\n",
    "tokenized_df.head()"
   ]
  },
  {
   "cell_type": "code",
   "execution_count": null,
   "id": "d7bf3afc",
   "metadata": {},
   "outputs": [],
   "source": [
    "remover = StopWordsRemover(inputCol=\"words\", outputCol=\"filtered\")\n",
    "removed_df = remover.transform(tokenized_df).drop('words')\n",
    "removed_df.head()"
   ]
  },
  {
   "cell_type": "code",
   "execution_count": null,
   "id": "5b3f8a8e",
   "metadata": {},
   "outputs": [],
   "source": [
    "cv = CountVectorizer(inputCol=\"filtered\", outputCol=\"features\", minDF=2.0).fit(removed_df)\n",
    "\n",
    "lda_count = cv.transform(removed_df).drop('filtered')\n",
    "lda_count.head()"
   ]
  },
  {
   "cell_type": "code",
   "execution_count": null,
   "id": "882e4040",
   "metadata": {},
   "outputs": [],
   "source": [
    "from pyspark.ml.clustering import LDA\n",
    "\n",
    "# create LDA with K topics\n",
    "\n",
    "start = time.time()\n",
    "lda = LDA(k=K, seed=1, optimizer=\"em\", maxIter=MAX_ITER, checkpointInterval=CHECKPOINT)\n",
    "model = lda.fit(lda_count)\n",
    "end = time.time()\n",
    "\n",
    "print(f\"Time elapsed: {end-start:.2f} seconds\")"
   ]
  },
  {
   "cell_type": "code",
   "execution_count": null,
   "id": "113320eb",
   "metadata": {},
   "outputs": [],
   "source": [
    "topicIndices = model.describeTopics(maxTermsPerTopic = 5)\n",
    "vocabList = cv.vocabulary\n",
    "\n",
    "for row in topicIndices.collect():\n",
    "    print(f\"Topic {row.topic + 1}: \")\n",
    "    for topic, weight in zip(row.termIndices, row.termWeights):\n",
    "        print(f\"{vocabList[topic]} {weight:.2E}\")\n",
    "    print()"
   ]
  }
 ],
 "metadata": {
  "kernelspec": {
   "display_name": "Python 3 (ipykernel)",
   "language": "python",
   "name": "python3"
  },
  "language_info": {
   "codemirror_mode": {
    "name": "ipython",
    "version": 3
   },
   "file_extension": ".py",
   "mimetype": "text/x-python",
   "name": "python",
   "nbconvert_exporter": "python",
   "pygments_lexer": "ipython3",
   "version": "3.10.10"
  }
 },
 "nbformat": 4,
 "nbformat_minor": 5
}
